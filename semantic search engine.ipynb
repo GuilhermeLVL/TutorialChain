{
 "cells": [
  {
   "cell_type": "markdown",
   "id": "471bed68",
   "metadata": {},
   "source": [
    "1. Instalação dos Pacotes\n",
    "O que está acontecendo:\n",
    "Instalamos as bibliotecas necessárias para manipular PDFs, criar embeddings, dividir textos e construir o banco vetorial.\n",
    "\n",
    "Por quê:\n",
    "Essas bibliotecas são a base para todo o pipeline de busca semântica."
   ]
  },
  {
   "cell_type": "code",
   "execution_count": 2,
   "id": "3eb68389",
   "metadata": {},
   "outputs": [
    {
     "name": "stdout",
     "output_type": "stream",
     "text": [
      "Requirement already satisfied: langchain in c:\\users\\guilh\\onedrive\\área de trabalho\\projetos ia\\tutorialchain\\.venv\\lib\\site-packages (0.3.27)\n",
      "Requirement already satisfied: langchain-community in c:\\users\\guilh\\onedrive\\área de trabalho\\projetos ia\\tutorialchain\\.venv\\lib\\site-packages (0.3.27)\n",
      "Requirement already satisfied: pypdf in c:\\users\\guilh\\onedrive\\área de trabalho\\projetos ia\\tutorialchain\\.venv\\lib\\site-packages (5.9.0)\n",
      "Requirement already satisfied: faiss-cpu in c:\\users\\guilh\\onedrive\\área de trabalho\\projetos ia\\tutorialchain\\.venv\\lib\\site-packages (1.11.0.post1)\n",
      "Requirement already satisfied: langchain-huggingface in c:\\users\\guilh\\onedrive\\área de trabalho\\projetos ia\\tutorialchain\\.venv\\lib\\site-packages (0.3.1)\n",
      "Requirement already satisfied: langchain-core<1.0.0,>=0.3.72 in c:\\users\\guilh\\onedrive\\área de trabalho\\projetos ia\\tutorialchain\\.venv\\lib\\site-packages (from langchain) (0.3.72)\n",
      "Requirement already satisfied: langchain-text-splitters<1.0.0,>=0.3.9 in c:\\users\\guilh\\onedrive\\área de trabalho\\projetos ia\\tutorialchain\\.venv\\lib\\site-packages (from langchain) (0.3.9)\n",
      "Requirement already satisfied: langsmith>=0.1.17 in c:\\users\\guilh\\onedrive\\área de trabalho\\projetos ia\\tutorialchain\\.venv\\lib\\site-packages (from langchain) (0.4.8)\n",
      "Requirement already satisfied: pydantic<3.0.0,>=2.7.4 in c:\\users\\guilh\\onedrive\\área de trabalho\\projetos ia\\tutorialchain\\.venv\\lib\\site-packages (from langchain) (2.11.7)\n",
      "Requirement already satisfied: SQLAlchemy<3,>=1.4 in c:\\users\\guilh\\onedrive\\área de trabalho\\projetos ia\\tutorialchain\\.venv\\lib\\site-packages (from langchain) (2.0.41)\n",
      "Requirement already satisfied: requests<3,>=2 in c:\\users\\guilh\\onedrive\\área de trabalho\\projetos ia\\tutorialchain\\.venv\\lib\\site-packages (from langchain) (2.32.4)\n",
      "Requirement already satisfied: PyYAML>=5.3 in c:\\users\\guilh\\onedrive\\área de trabalho\\projetos ia\\tutorialchain\\.venv\\lib\\site-packages (from langchain) (6.0.2)\n",
      "Requirement already satisfied: aiohttp<4.0.0,>=3.8.3 in c:\\users\\guilh\\onedrive\\área de trabalho\\projetos ia\\tutorialchain\\.venv\\lib\\site-packages (from langchain-community) (3.12.15)\n",
      "Requirement already satisfied: tenacity!=8.4.0,<10,>=8.1.0 in c:\\users\\guilh\\onedrive\\área de trabalho\\projetos ia\\tutorialchain\\.venv\\lib\\site-packages (from langchain-community) (9.1.2)\n",
      "Requirement already satisfied: dataclasses-json<0.7,>=0.5.7 in c:\\users\\guilh\\onedrive\\área de trabalho\\projetos ia\\tutorialchain\\.venv\\lib\\site-packages (from langchain-community) (0.6.7)\n",
      "Requirement already satisfied: pydantic-settings<3.0.0,>=2.4.0 in c:\\users\\guilh\\onedrive\\área de trabalho\\projetos ia\\tutorialchain\\.venv\\lib\\site-packages (from langchain-community) (2.10.1)\n",
      "Requirement already satisfied: httpx-sse<1.0.0,>=0.4.0 in c:\\users\\guilh\\onedrive\\área de trabalho\\projetos ia\\tutorialchain\\.venv\\lib\\site-packages (from langchain-community) (0.4.1)\n",
      "Requirement already satisfied: numpy>=1.26.2 in c:\\users\\guilh\\onedrive\\área de trabalho\\projetos ia\\tutorialchain\\.venv\\lib\\site-packages (from langchain-community) (2.3.2)\n",
      "Requirement already satisfied: packaging in c:\\users\\guilh\\onedrive\\área de trabalho\\projetos ia\\tutorialchain\\.venv\\lib\\site-packages (from faiss-cpu) (25.0)\n",
      "Requirement already satisfied: tokenizers>=0.19.1 in c:\\users\\guilh\\onedrive\\área de trabalho\\projetos ia\\tutorialchain\\.venv\\lib\\site-packages (from langchain-huggingface) (0.21.4)\n",
      "Requirement already satisfied: huggingface-hub>=0.33.4 in c:\\users\\guilh\\onedrive\\área de trabalho\\projetos ia\\tutorialchain\\.venv\\lib\\site-packages (from langchain-huggingface) (0.34.3)\n",
      "Requirement already satisfied: aiohappyeyeballs>=2.5.0 in c:\\users\\guilh\\onedrive\\área de trabalho\\projetos ia\\tutorialchain\\.venv\\lib\\site-packages (from aiohttp<4.0.0,>=3.8.3->langchain-community) (2.6.1)\n",
      "Requirement already satisfied: aiosignal>=1.4.0 in c:\\users\\guilh\\onedrive\\área de trabalho\\projetos ia\\tutorialchain\\.venv\\lib\\site-packages (from aiohttp<4.0.0,>=3.8.3->langchain-community) (1.4.0)\n",
      "Requirement already satisfied: attrs>=17.3.0 in c:\\users\\guilh\\onedrive\\área de trabalho\\projetos ia\\tutorialchain\\.venv\\lib\\site-packages (from aiohttp<4.0.0,>=3.8.3->langchain-community) (25.3.0)\n",
      "Requirement already satisfied: frozenlist>=1.1.1 in c:\\users\\guilh\\onedrive\\área de trabalho\\projetos ia\\tutorialchain\\.venv\\lib\\site-packages (from aiohttp<4.0.0,>=3.8.3->langchain-community) (1.7.0)\n",
      "Requirement already satisfied: multidict<7.0,>=4.5 in c:\\users\\guilh\\onedrive\\área de trabalho\\projetos ia\\tutorialchain\\.venv\\lib\\site-packages (from aiohttp<4.0.0,>=3.8.3->langchain-community) (6.6.3)\n",
      "Requirement already satisfied: propcache>=0.2.0 in c:\\users\\guilh\\onedrive\\área de trabalho\\projetos ia\\tutorialchain\\.venv\\lib\\site-packages (from aiohttp<4.0.0,>=3.8.3->langchain-community) (0.3.2)\n",
      "Requirement already satisfied: yarl<2.0,>=1.17.0 in c:\\users\\guilh\\onedrive\\área de trabalho\\projetos ia\\tutorialchain\\.venv\\lib\\site-packages (from aiohttp<4.0.0,>=3.8.3->langchain-community) (1.20.1)\n",
      "Requirement already satisfied: marshmallow<4.0.0,>=3.18.0 in c:\\users\\guilh\\onedrive\\área de trabalho\\projetos ia\\tutorialchain\\.venv\\lib\\site-packages (from dataclasses-json<0.7,>=0.5.7->langchain-community) (3.26.1)\n",
      "Requirement already satisfied: typing-inspect<1,>=0.4.0 in c:\\users\\guilh\\onedrive\\área de trabalho\\projetos ia\\tutorialchain\\.venv\\lib\\site-packages (from dataclasses-json<0.7,>=0.5.7->langchain-community) (0.9.0)\n",
      "Requirement already satisfied: filelock in c:\\users\\guilh\\onedrive\\área de trabalho\\projetos ia\\tutorialchain\\.venv\\lib\\site-packages (from huggingface-hub>=0.33.4->langchain-huggingface) (3.18.0)\n",
      "Requirement already satisfied: fsspec>=2023.5.0 in c:\\users\\guilh\\onedrive\\área de trabalho\\projetos ia\\tutorialchain\\.venv\\lib\\site-packages (from huggingface-hub>=0.33.4->langchain-huggingface) (2025.7.0)\n",
      "Requirement already satisfied: tqdm>=4.42.1 in c:\\users\\guilh\\onedrive\\área de trabalho\\projetos ia\\tutorialchain\\.venv\\lib\\site-packages (from huggingface-hub>=0.33.4->langchain-huggingface) (4.67.1)\n",
      "Requirement already satisfied: typing-extensions>=3.7.4.3 in c:\\users\\guilh\\onedrive\\área de trabalho\\projetos ia\\tutorialchain\\.venv\\lib\\site-packages (from huggingface-hub>=0.33.4->langchain-huggingface) (4.14.1)\n",
      "Requirement already satisfied: jsonpatch<2.0,>=1.33 in c:\\users\\guilh\\onedrive\\área de trabalho\\projetos ia\\tutorialchain\\.venv\\lib\\site-packages (from langchain-core<1.0.0,>=0.3.72->langchain) (1.33)\n",
      "Requirement already satisfied: httpx<1,>=0.23.0 in c:\\users\\guilh\\onedrive\\área de trabalho\\projetos ia\\tutorialchain\\.venv\\lib\\site-packages (from langsmith>=0.1.17->langchain) (0.28.1)\n",
      "Requirement already satisfied: orjson<4.0.0,>=3.9.14 in c:\\users\\guilh\\onedrive\\área de trabalho\\projetos ia\\tutorialchain\\.venv\\lib\\site-packages (from langsmith>=0.1.17->langchain) (3.11.1)\n",
      "Requirement already satisfied: requests-toolbelt<2.0.0,>=1.0.0 in c:\\users\\guilh\\onedrive\\área de trabalho\\projetos ia\\tutorialchain\\.venv\\lib\\site-packages (from langsmith>=0.1.17->langchain) (1.0.0)\n",
      "Requirement already satisfied: zstandard<0.24.0,>=0.23.0 in c:\\users\\guilh\\onedrive\\área de trabalho\\projetos ia\\tutorialchain\\.venv\\lib\\site-packages (from langsmith>=0.1.17->langchain) (0.23.0)\n",
      "Requirement already satisfied: annotated-types>=0.6.0 in c:\\users\\guilh\\onedrive\\área de trabalho\\projetos ia\\tutorialchain\\.venv\\lib\\site-packages (from pydantic<3.0.0,>=2.7.4->langchain) (0.7.0)\n",
      "Requirement already satisfied: pydantic-core==2.33.2 in c:\\users\\guilh\\onedrive\\área de trabalho\\projetos ia\\tutorialchain\\.venv\\lib\\site-packages (from pydantic<3.0.0,>=2.7.4->langchain) (2.33.2)\n",
      "Requirement already satisfied: typing-inspection>=0.4.0 in c:\\users\\guilh\\onedrive\\área de trabalho\\projetos ia\\tutorialchain\\.venv\\lib\\site-packages (from pydantic<3.0.0,>=2.7.4->langchain) (0.4.1)\n",
      "Requirement already satisfied: python-dotenv>=0.21.0 in c:\\users\\guilh\\onedrive\\área de trabalho\\projetos ia\\tutorialchain\\.venv\\lib\\site-packages (from pydantic-settings<3.0.0,>=2.4.0->langchain-community) (1.1.1)\n",
      "Requirement already satisfied: charset_normalizer<4,>=2 in c:\\users\\guilh\\onedrive\\área de trabalho\\projetos ia\\tutorialchain\\.venv\\lib\\site-packages (from requests<3,>=2->langchain) (3.4.2)\n",
      "Requirement already satisfied: idna<4,>=2.5 in c:\\users\\guilh\\onedrive\\área de trabalho\\projetos ia\\tutorialchain\\.venv\\lib\\site-packages (from requests<3,>=2->langchain) (3.10)\n",
      "Requirement already satisfied: urllib3<3,>=1.21.1 in c:\\users\\guilh\\onedrive\\área de trabalho\\projetos ia\\tutorialchain\\.venv\\lib\\site-packages (from requests<3,>=2->langchain) (2.5.0)\n",
      "Requirement already satisfied: certifi>=2017.4.17 in c:\\users\\guilh\\onedrive\\área de trabalho\\projetos ia\\tutorialchain\\.venv\\lib\\site-packages (from requests<3,>=2->langchain) (2025.7.14)\n",
      "Requirement already satisfied: greenlet>=1 in c:\\users\\guilh\\onedrive\\área de trabalho\\projetos ia\\tutorialchain\\.venv\\lib\\site-packages (from SQLAlchemy<3,>=1.4->langchain) (3.2.3)\n",
      "Requirement already satisfied: anyio in c:\\users\\guilh\\onedrive\\área de trabalho\\projetos ia\\tutorialchain\\.venv\\lib\\site-packages (from httpx<1,>=0.23.0->langsmith>=0.1.17->langchain) (4.9.0)\n",
      "Requirement already satisfied: httpcore==1.* in c:\\users\\guilh\\onedrive\\área de trabalho\\projetos ia\\tutorialchain\\.venv\\lib\\site-packages (from httpx<1,>=0.23.0->langsmith>=0.1.17->langchain) (1.0.9)\n",
      "Requirement already satisfied: h11>=0.16 in c:\\users\\guilh\\onedrive\\área de trabalho\\projetos ia\\tutorialchain\\.venv\\lib\\site-packages (from httpcore==1.*->httpx<1,>=0.23.0->langsmith>=0.1.17->langchain) (0.16.0)\n",
      "Requirement already satisfied: jsonpointer>=1.9 in c:\\users\\guilh\\onedrive\\área de trabalho\\projetos ia\\tutorialchain\\.venv\\lib\\site-packages (from jsonpatch<2.0,>=1.33->langchain-core<1.0.0,>=0.3.72->langchain) (3.0.0)\n",
      "Requirement already satisfied: colorama in c:\\users\\guilh\\onedrive\\área de trabalho\\projetos ia\\tutorialchain\\.venv\\lib\\site-packages (from tqdm>=4.42.1->huggingface-hub>=0.33.4->langchain-huggingface) (0.4.6)\n",
      "Requirement already satisfied: mypy-extensions>=0.3.0 in c:\\users\\guilh\\onedrive\\área de trabalho\\projetos ia\\tutorialchain\\.venv\\lib\\site-packages (from typing-inspect<1,>=0.4.0->dataclasses-json<0.7,>=0.5.7->langchain-community) (1.1.0)\n",
      "Requirement already satisfied: sniffio>=1.1 in c:\\users\\guilh\\onedrive\\área de trabalho\\projetos ia\\tutorialchain\\.venv\\lib\\site-packages (from anyio->httpx<1,>=0.23.0->langsmith>=0.1.17->langchain) (1.3.1)\n"
     ]
    },
    {
     "name": "stderr",
     "output_type": "stream",
     "text": [
      "\n",
      "[notice] A new release of pip is available: 24.2 -> 25.2\n",
      "[notice] To update, run: python.exe -m pip install --upgrade pip\n"
     ]
    }
   ],
   "source": [
    "# Instale as bibliotecas necessárias (execute apenas uma vez)\n",
    "!pip install langchain langchain-community pypdf faiss-cpu langchain-huggingface"
   ]
  },
  {
   "cell_type": "code",
   "execution_count": null,
   "id": "80afc781",
   "metadata": {},
   "outputs": [],
   "source": [
    "# 2. Importação das Bibliotecas\n",
    "# O que está acontecendo:\n",
    "# Aqui importamos as bibliotecas essenciais para o pipeline de busca semântica.\n",
    "# - os: manipulação de arquivos e diretórios\n",
    "# - PyPDFLoader: carrega PDFs e transforma em documentos\n",
    "# - RecursiveCharacterTextSplitter: divide textos em pedaços menores (chunks)\n",
    "# - HuggingFaceEmbeddings: gera vetores semânticos dos textos\n",
    "# - FAISS: banco vetorial para buscas rápidas\n",
    "\n",
    "import os\n",
    "from langchain_community.document_loaders import PyPDFLoader\n",
    "from langchain_text_splitters import RecursiveCharacterTextSplitter\n",
    "from langchain_huggingface import HuggingFaceEmbeddings\n",
    "from langchain.vectorstores import FAISS\n"
   ]
  }
 ],
 "metadata": {
  "kernelspec": {
   "display_name": ".venv",
   "language": "python",
   "name": "python3"
  },
  "language_info": {
   "codemirror_mode": {
    "name": "ipython",
    "version": 3
   },
   "file_extension": ".py",
   "mimetype": "text/x-python",
   "name": "python",
   "nbconvert_exporter": "python",
   "pygments_lexer": "ipython3",
   "version": "3.12.7"
  }
 },
 "nbformat": 4,
 "nbformat_minor": 5
}
