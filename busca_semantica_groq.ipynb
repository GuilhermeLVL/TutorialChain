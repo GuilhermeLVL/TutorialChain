{
 "cells": [
  {
   "cell_type": "markdown",
   "id": "1bb0116d",
   "metadata": {},
   "source": [
    "# Tutorial: Busca Semântica Inteligente com LangChain e Groq\n",
    "\n",
    "Este tutorial mostra como criar um buscador inteligente de informações em documentos usando LangChain e Groq. O objetivo é encontrar respostas relevantes em grandes volumes de texto, resolvendo o problema de buscas tradicionais que não entendem o significado das palavras.\n",
    "\n",
    "Você vai aprender:\n",
    "- Por que usar busca semântica\n",
    "- Como configurar o ambiente\n",
    "- Como carregar e dividir documentos\n",
    "- Como gerar embeddings com Groq\n",
    "- Como buscar respostas relevantes"
   ]
  },
  {
   "cell_type": "markdown",
   "id": "44a6604f",
   "metadata": {},
   "source": [
    "## Por que busca semântica?\n",
    "\n",
    "Buscas tradicionais (por palavra-chave) não entendem contexto ou significado. Busca semântica usa IA para entender o sentido das perguntas e encontrar respostas mesmo que as palavras não sejam idênticas.\n",
    "\n",
    "**Impacto:** Facilita encontrar informações relevantes em textos longos, como relatórios, artigos ou PDFs."
   ]
  },
  {
   "cell_type": "markdown",
   "id": "ca626bd7",
   "metadata": {},
   "source": [
    "## 1. Instalação dos Pacotes\n",
    "\n",
    "Vamos instalar as bibliotecas necessárias para usar LangChain, Groq e manipular PDFs."
   ]
  },
  {
   "cell_type": "code",
   "execution_count": 1,
   "id": "5a0d3d4c",
   "metadata": {},
   "outputs": [
    {
     "name": "stdout",
     "output_type": "stream",
     "text": [
      "Requirement already satisfied: langchain in c:\\users\\guilh\\onedrive\\área de trabalho\\projetos ia\\tutorialchain\\.venv\\lib\\site-packages (0.3.27)\n",
      "Requirement already satisfied: groq in c:\\users\\guilh\\onedrive\\área de trabalho\\projetos ia\\tutorialchain\\.venv\\lib\\site-packages (0.30.0)\n",
      "Requirement already satisfied: langchain-community in c:\\users\\guilh\\onedrive\\área de trabalho\\projetos ia\\tutorialchain\\.venv\\lib\\site-packages (0.3.27)\n",
      "Requirement already satisfied: pypdf in c:\\users\\guilh\\onedrive\\área de trabalho\\projetos ia\\tutorialchain\\.venv\\lib\\site-packages (5.9.0)\n",
      "Requirement already satisfied: langchain-core<1.0.0,>=0.3.72 in c:\\users\\guilh\\onedrive\\área de trabalho\\projetos ia\\tutorialchain\\.venv\\lib\\site-packages (from langchain) (0.3.72)\n",
      "Requirement already satisfied: langchain-text-splitters<1.0.0,>=0.3.9 in c:\\users\\guilh\\onedrive\\área de trabalho\\projetos ia\\tutorialchain\\.venv\\lib\\site-packages (from langchain) (0.3.9)\n",
      "Requirement already satisfied: langsmith>=0.1.17 in c:\\users\\guilh\\onedrive\\área de trabalho\\projetos ia\\tutorialchain\\.venv\\lib\\site-packages (from langchain) (0.4.8)\n",
      "Requirement already satisfied: pydantic<3.0.0,>=2.7.4 in c:\\users\\guilh\\onedrive\\área de trabalho\\projetos ia\\tutorialchain\\.venv\\lib\\site-packages (from langchain) (2.11.7)\n",
      "Requirement already satisfied: SQLAlchemy<3,>=1.4 in c:\\users\\guilh\\onedrive\\área de trabalho\\projetos ia\\tutorialchain\\.venv\\lib\\site-packages (from langchain) (2.0.41)\n",
      "Requirement already satisfied: requests<3,>=2 in c:\\users\\guilh\\onedrive\\área de trabalho\\projetos ia\\tutorialchain\\.venv\\lib\\site-packages (from langchain) (2.32.4)\n",
      "Requirement already satisfied: PyYAML>=5.3 in c:\\users\\guilh\\onedrive\\área de trabalho\\projetos ia\\tutorialchain\\.venv\\lib\\site-packages (from langchain) (6.0.2)\n",
      "Requirement already satisfied: anyio<5,>=3.5.0 in c:\\users\\guilh\\onedrive\\área de trabalho\\projetos ia\\tutorialchain\\.venv\\lib\\site-packages (from groq) (4.9.0)\n",
      "Requirement already satisfied: distro<2,>=1.7.0 in c:\\users\\guilh\\onedrive\\área de trabalho\\projetos ia\\tutorialchain\\.venv\\lib\\site-packages (from groq) (1.9.0)\n",
      "Requirement already satisfied: httpx<1,>=0.23.0 in c:\\users\\guilh\\onedrive\\área de trabalho\\projetos ia\\tutorialchain\\.venv\\lib\\site-packages (from groq) (0.28.1)\n",
      "Requirement already satisfied: sniffio in c:\\users\\guilh\\onedrive\\área de trabalho\\projetos ia\\tutorialchain\\.venv\\lib\\site-packages (from groq) (1.3.1)\n",
      "Requirement already satisfied: typing-extensions<5,>=4.10 in c:\\users\\guilh\\onedrive\\área de trabalho\\projetos ia\\tutorialchain\\.venv\\lib\\site-packages (from groq) (4.14.1)\n",
      "Requirement already satisfied: aiohttp<4.0.0,>=3.8.3 in c:\\users\\guilh\\onedrive\\área de trabalho\\projetos ia\\tutorialchain\\.venv\\lib\\site-packages (from langchain-community) (3.12.15)\n",
      "Requirement already satisfied: tenacity!=8.4.0,<10,>=8.1.0 in c:\\users\\guilh\\onedrive\\área de trabalho\\projetos ia\\tutorialchain\\.venv\\lib\\site-packages (from langchain-community) (9.1.2)\n",
      "Requirement already satisfied: dataclasses-json<0.7,>=0.5.7 in c:\\users\\guilh\\onedrive\\área de trabalho\\projetos ia\\tutorialchain\\.venv\\lib\\site-packages (from langchain-community) (0.6.7)\n",
      "Requirement already satisfied: pydantic-settings<3.0.0,>=2.4.0 in c:\\users\\guilh\\onedrive\\área de trabalho\\projetos ia\\tutorialchain\\.venv\\lib\\site-packages (from langchain-community) (2.10.1)\n",
      "Requirement already satisfied: httpx-sse<1.0.0,>=0.4.0 in c:\\users\\guilh\\onedrive\\área de trabalho\\projetos ia\\tutorialchain\\.venv\\lib\\site-packages (from langchain-community) (0.4.1)\n",
      "Requirement already satisfied: numpy>=1.26.2 in c:\\users\\guilh\\onedrive\\área de trabalho\\projetos ia\\tutorialchain\\.venv\\lib\\site-packages (from langchain-community) (2.3.2)\n",
      "Requirement already satisfied: aiohappyeyeballs>=2.5.0 in c:\\users\\guilh\\onedrive\\área de trabalho\\projetos ia\\tutorialchain\\.venv\\lib\\site-packages (from aiohttp<4.0.0,>=3.8.3->langchain-community) (2.6.1)\n",
      "Requirement already satisfied: aiosignal>=1.4.0 in c:\\users\\guilh\\onedrive\\área de trabalho\\projetos ia\\tutorialchain\\.venv\\lib\\site-packages (from aiohttp<4.0.0,>=3.8.3->langchain-community) (1.4.0)\n",
      "Requirement already satisfied: attrs>=17.3.0 in c:\\users\\guilh\\onedrive\\área de trabalho\\projetos ia\\tutorialchain\\.venv\\lib\\site-packages (from aiohttp<4.0.0,>=3.8.3->langchain-community) (25.3.0)\n",
      "Requirement already satisfied: frozenlist>=1.1.1 in c:\\users\\guilh\\onedrive\\área de trabalho\\projetos ia\\tutorialchain\\.venv\\lib\\site-packages (from aiohttp<4.0.0,>=3.8.3->langchain-community) (1.7.0)\n",
      "Requirement already satisfied: multidict<7.0,>=4.5 in c:\\users\\guilh\\onedrive\\área de trabalho\\projetos ia\\tutorialchain\\.venv\\lib\\site-packages (from aiohttp<4.0.0,>=3.8.3->langchain-community) (6.6.3)\n",
      "Requirement already satisfied: propcache>=0.2.0 in c:\\users\\guilh\\onedrive\\área de trabalho\\projetos ia\\tutorialchain\\.venv\\lib\\site-packages (from aiohttp<4.0.0,>=3.8.3->langchain-community) (0.3.2)\n",
      "Requirement already satisfied: yarl<2.0,>=1.17.0 in c:\\users\\guilh\\onedrive\\área de trabalho\\projetos ia\\tutorialchain\\.venv\\lib\\site-packages (from aiohttp<4.0.0,>=3.8.3->langchain-community) (1.20.1)\n",
      "Requirement already satisfied: idna>=2.8 in c:\\users\\guilh\\onedrive\\área de trabalho\\projetos ia\\tutorialchain\\.venv\\lib\\site-packages (from anyio<5,>=3.5.0->groq) (3.10)\n",
      "Requirement already satisfied: marshmallow<4.0.0,>=3.18.0 in c:\\users\\guilh\\onedrive\\área de trabalho\\projetos ia\\tutorialchain\\.venv\\lib\\site-packages (from dataclasses-json<0.7,>=0.5.7->langchain-community) (3.26.1)\n",
      "Requirement already satisfied: typing-inspect<1,>=0.4.0 in c:\\users\\guilh\\onedrive\\área de trabalho\\projetos ia\\tutorialchain\\.venv\\lib\\site-packages (from dataclasses-json<0.7,>=0.5.7->langchain-community) (0.9.0)\n",
      "Requirement already satisfied: certifi in c:\\users\\guilh\\onedrive\\área de trabalho\\projetos ia\\tutorialchain\\.venv\\lib\\site-packages (from httpx<1,>=0.23.0->groq) (2025.7.14)\n",
      "Requirement already satisfied: httpcore==1.* in c:\\users\\guilh\\onedrive\\área de trabalho\\projetos ia\\tutorialchain\\.venv\\lib\\site-packages (from httpx<1,>=0.23.0->groq) (1.0.9)\n",
      "Requirement already satisfied: h11>=0.16 in c:\\users\\guilh\\onedrive\\área de trabalho\\projetos ia\\tutorialchain\\.venv\\lib\\site-packages (from httpcore==1.*->httpx<1,>=0.23.0->groq) (0.16.0)\n",
      "Requirement already satisfied: jsonpatch<2.0,>=1.33 in c:\\users\\guilh\\onedrive\\área de trabalho\\projetos ia\\tutorialchain\\.venv\\lib\\site-packages (from langchain-core<1.0.0,>=0.3.72->langchain) (1.33)\n",
      "Requirement already satisfied: packaging>=23.2 in c:\\users\\guilh\\onedrive\\área de trabalho\\projetos ia\\tutorialchain\\.venv\\lib\\site-packages (from langchain-core<1.0.0,>=0.3.72->langchain) (25.0)\n",
      "Requirement already satisfied: orjson<4.0.0,>=3.9.14 in c:\\users\\guilh\\onedrive\\área de trabalho\\projetos ia\\tutorialchain\\.venv\\lib\\site-packages (from langsmith>=0.1.17->langchain) (3.11.1)\n",
      "Requirement already satisfied: requests-toolbelt<2.0.0,>=1.0.0 in c:\\users\\guilh\\onedrive\\área de trabalho\\projetos ia\\tutorialchain\\.venv\\lib\\site-packages (from langsmith>=0.1.17->langchain) (1.0.0)\n",
      "Requirement already satisfied: zstandard<0.24.0,>=0.23.0 in c:\\users\\guilh\\onedrive\\área de trabalho\\projetos ia\\tutorialchain\\.venv\\lib\\site-packages (from langsmith>=0.1.17->langchain) (0.23.0)\n",
      "Requirement already satisfied: annotated-types>=0.6.0 in c:\\users\\guilh\\onedrive\\área de trabalho\\projetos ia\\tutorialchain\\.venv\\lib\\site-packages (from pydantic<3.0.0,>=2.7.4->langchain) (0.7.0)\n",
      "Requirement already satisfied: pydantic-core==2.33.2 in c:\\users\\guilh\\onedrive\\área de trabalho\\projetos ia\\tutorialchain\\.venv\\lib\\site-packages (from pydantic<3.0.0,>=2.7.4->langchain) (2.33.2)\n",
      "Requirement already satisfied: typing-inspection>=0.4.0 in c:\\users\\guilh\\onedrive\\área de trabalho\\projetos ia\\tutorialchain\\.venv\\lib\\site-packages (from pydantic<3.0.0,>=2.7.4->langchain) (0.4.1)\n",
      "Requirement already satisfied: python-dotenv>=0.21.0 in c:\\users\\guilh\\onedrive\\área de trabalho\\projetos ia\\tutorialchain\\.venv\\lib\\site-packages (from pydantic-settings<3.0.0,>=2.4.0->langchain-community) (1.1.1)\n",
      "Requirement already satisfied: charset_normalizer<4,>=2 in c:\\users\\guilh\\onedrive\\área de trabalho\\projetos ia\\tutorialchain\\.venv\\lib\\site-packages (from requests<3,>=2->langchain) (3.4.2)\n",
      "Requirement already satisfied: urllib3<3,>=1.21.1 in c:\\users\\guilh\\onedrive\\área de trabalho\\projetos ia\\tutorialchain\\.venv\\lib\\site-packages (from requests<3,>=2->langchain) (2.5.0)\n",
      "Requirement already satisfied: greenlet>=1 in c:\\users\\guilh\\onedrive\\área de trabalho\\projetos ia\\tutorialchain\\.venv\\lib\\site-packages (from SQLAlchemy<3,>=1.4->langchain) (3.2.3)\n",
      "Requirement already satisfied: jsonpointer>=1.9 in c:\\users\\guilh\\onedrive\\área de trabalho\\projetos ia\\tutorialchain\\.venv\\lib\\site-packages (from jsonpatch<2.0,>=1.33->langchain-core<1.0.0,>=0.3.72->langchain) (3.0.0)\n",
      "Requirement already satisfied: mypy-extensions>=0.3.0 in c:\\users\\guilh\\onedrive\\área de trabalho\\projetos ia\\tutorialchain\\.venv\\lib\\site-packages (from typing-inspect<1,>=0.4.0->dataclasses-json<0.7,>=0.5.7->langchain-community) (1.1.0)\n"
     ]
    },
    {
     "name": "stderr",
     "output_type": "stream",
     "text": [
      "\n",
      "[notice] A new release of pip is available: 24.2 -> 25.2\n",
      "[notice] To update, run: python.exe -m pip install --upgrade pip\n"
     ]
    }
   ],
   "source": [
    "# Instale as bibliotecas necessárias\n",
    "!pip install langchain groq langchain-community pypdf"
   ]
  },
  {
   "cell_type": "markdown",
   "id": "46be0198",
   "metadata": {},
   "source": [
    "## 2. Configuração da API Groq\n",
    "\n",
    "Para usar modelos Groq, você precisa de uma chave de API. Isso garante acesso seguro e rastreável aos recursos de IA."
   ]
  },
  {
   "cell_type": "code",
   "execution_count": 2,
   "id": "df48ffaa",
   "metadata": {},
   "outputs": [],
   "source": [
    "import os\n",
    "import getpass\n",
    "\n",
    "# Defina sua chave de API Groq (ela pode ser obtida no site da Groq)\n",
    "os.environ['GROQ_API_KEY'] = getpass.getpass('Digite sua chave de API Groq:')"
   ]
  },
  {
   "cell_type": "markdown",
   "id": "2b16fe71",
   "metadata": {},
   "source": [
    "## 3. Carregando Documentos\n",
    "\n",
    "Vamos carregar um PDF para buscar informações. O loader transforma cada página em um documento separado.\n",
    "\n",
    "**Problema resolvido:** Automatiza a leitura de grandes arquivos, tornando-os pesquisáveis."
   ]
  },
  {
   "cell_type": "code",
   "execution_count": 3,
   "id": "083243ea",
   "metadata": {},
   "outputs": [
    {
     "name": "stdout",
     "output_type": "stream",
     "text": [
      "Total de páginas carregadas: 107\n"
     ]
    }
   ],
   "source": [
    "from langchain_community.document_loaders import PyPDFLoader\n",
    "\n",
    "file_path = 'Docs/nke-10k-2023.pdf'  # Caminho para seu PDF\n",
    "loader = PyPDFLoader(file_path)\n",
    "docs = loader.load()\n",
    "print(f'Total de páginas carregadas: {len(docs)}')"
   ]
  },
  {
   "cell_type": "markdown",
   "id": "35fb6aea",
   "metadata": {},
   "source": [
    "## 4. Dividindo o Texto em Chunks\n",
    "\n",
    "Dividimos o texto em pedaços menores para facilitar a busca e garantir que o modelo não ultrapasse limites de tamanho.\n",
    "\n",
    "**Finalidade:** Permite buscas mais precisas e rápidas.\n",
    "\n",
    "**Exemplo:** Um relatório de 10 páginas pode virar 30 pedaços de texto."
   ]
  },
  {
   "cell_type": "code",
   "execution_count": 4,
   "id": "978e20f7",
   "metadata": {},
   "outputs": [
    {
     "name": "stdout",
     "output_type": "stream",
     "text": [
      "Total de chunks: 516\n"
     ]
    }
   ],
   "source": [
    "from langchain_text_splitters import RecursiveCharacterTextSplitter\n",
    "\n",
    "text_splitter = RecursiveCharacterTextSplitter(chunk_size=1000, chunk_overlap=200)\n",
    "chunks = text_splitter.split_documents(docs)\n",
    "print(f'Total de chunks: {len(chunks)}')"
   ]
  },
  {
   "cell_type": "markdown",
   "id": "6a3a65f3",
   "metadata": {},
   "source": [
    "## 5. Gerando Embeddings dos Textos\n",
    "\n",
    "Embeddings são vetores que representam o significado dos textos. Usamos modelos como HuggingFace para gerar esses vetores, pois o Groq é voltado para geração de texto, não para embeddings.\n",
    "\n",
    "**Impacto:** Permite comparar perguntas e textos pelo significado, não só por palavras exatas."
   ]
  },
  {
   "cell_type": "code",
   "execution_count": 6,
   "id": "2b8c8e54",
   "metadata": {},
   "outputs": [
    {
     "name": "stderr",
     "output_type": "stream",
     "text": [
      "c:\\Users\\Guilh\\OneDrive\\Área de Trabalho\\Projetos IA\\TutorialChain\\.venv\\Lib\\site-packages\\tqdm\\auto.py:21: TqdmWarning: IProgress not found. Please update jupyter and ipywidgets. See https://ipywidgets.readthedocs.io/en/stable/user_install.html\n",
      "  from .autonotebook import tqdm as notebook_tqdm\n"
     ]
    }
   ],
   "source": [
    "from langchain_huggingface import HuggingFaceEmbeddings\n",
    "\n",
    "# Cria o objeto de embeddings usando um modelo HuggingFace (especializado em transformar texto em vetores)\n",
    "embeddings = HuggingFaceEmbeddings(model_name='sentence-transformers/all-mpnet-base-v2')"
   ]
  },
  {
   "cell_type": "markdown",
   "id": "641a4465",
   "metadata": {},
   "source": [
    "## 6. Criando o Banco Vetorial\n",
    "\n",
    "O banco vetorial armazena os embeddings dos chunks. Assim, é possível buscar rapidamente os trechos mais relevantes para uma pergunta.\n",
    "\n",
    "**Problema resolvido:** Busca eficiente em grandes volumes de texto."
   ]
  },
  {
   "cell_type": "code",
   "execution_count": 7,
   "id": "e0d0ec52",
   "metadata": {},
   "outputs": [
    {
     "ename": "ImportError",
     "evalue": "Could not import faiss python package. Please install it with `pip install faiss-gpu` (for CUDA supported GPU) or `pip install faiss-cpu` (depending on Python version).",
     "output_type": "error",
     "traceback": [
      "\u001b[31m---------------------------------------------------------------------------\u001b[39m",
      "\u001b[31mModuleNotFoundError\u001b[39m                       Traceback (most recent call last)",
      "\u001b[36mFile \u001b[39m\u001b[32mc:\\Users\\Guilh\\OneDrive\\Área de Trabalho\\Projetos IA\\TutorialChain\\.venv\\Lib\\site-packages\\langchain_community\\vectorstores\\faiss.py:56\u001b[39m, in \u001b[36mdependable_faiss_import\u001b[39m\u001b[34m(no_avx2)\u001b[39m\n\u001b[32m     55\u001b[39m     \u001b[38;5;28;01melse\u001b[39;00m:\n\u001b[32m---> \u001b[39m\u001b[32m56\u001b[39m         \u001b[38;5;28;01mimport\u001b[39;00m\u001b[38;5;250m \u001b[39m\u001b[34;01mfaiss\u001b[39;00m\n\u001b[32m     57\u001b[39m \u001b[38;5;28;01mexcept\u001b[39;00m \u001b[38;5;167;01mImportError\u001b[39;00m:\n",
      "\u001b[31mModuleNotFoundError\u001b[39m: No module named 'faiss'",
      "\nDuring handling of the above exception, another exception occurred:\n",
      "\u001b[31mImportError\u001b[39m                               Traceback (most recent call last)",
      "\u001b[36mCell\u001b[39m\u001b[36m \u001b[39m\u001b[32mIn[7]\u001b[39m\u001b[32m, line 4\u001b[39m\n\u001b[32m      1\u001b[39m \u001b[38;5;28;01mfrom\u001b[39;00m\u001b[38;5;250m \u001b[39m\u001b[34;01mlangchain\u001b[39;00m\u001b[34;01m.\u001b[39;00m\u001b[34;01mvectorstores\u001b[39;00m\u001b[38;5;250m \u001b[39m\u001b[38;5;28;01mimport\u001b[39;00m FAISS\n\u001b[32m      3\u001b[39m \u001b[38;5;66;03m# Cria o banco vetorial com os embeddings dos chunks\u001b[39;00m\n\u001b[32m----> \u001b[39m\u001b[32m4\u001b[39m vector_store = \u001b[43mFAISS\u001b[49m\u001b[43m.\u001b[49m\u001b[43mfrom_documents\u001b[49m\u001b[43m(\u001b[49m\u001b[43mchunks\u001b[49m\u001b[43m,\u001b[49m\u001b[43m \u001b[49m\u001b[43membeddings\u001b[49m\u001b[43m)\u001b[49m\n",
      "\u001b[36mFile \u001b[39m\u001b[32mc:\\Users\\Guilh\\OneDrive\\Área de Trabalho\\Projetos IA\\TutorialChain\\.venv\\Lib\\site-packages\\langchain_core\\vectorstores\\base.py:848\u001b[39m, in \u001b[36mVectorStore.from_documents\u001b[39m\u001b[34m(cls, documents, embedding, **kwargs)\u001b[39m\n\u001b[32m    845\u001b[39m     \u001b[38;5;28;01mif\u001b[39;00m \u001b[38;5;28many\u001b[39m(ids):\n\u001b[32m    846\u001b[39m         kwargs[\u001b[33m\"\u001b[39m\u001b[33mids\u001b[39m\u001b[33m\"\u001b[39m] = ids\n\u001b[32m--> \u001b[39m\u001b[32m848\u001b[39m \u001b[38;5;28;01mreturn\u001b[39;00m \u001b[38;5;28;43mcls\u001b[39;49m\u001b[43m.\u001b[49m\u001b[43mfrom_texts\u001b[49m\u001b[43m(\u001b[49m\u001b[43mtexts\u001b[49m\u001b[43m,\u001b[49m\u001b[43m \u001b[49m\u001b[43membedding\u001b[49m\u001b[43m,\u001b[49m\u001b[43m \u001b[49m\u001b[43mmetadatas\u001b[49m\u001b[43m=\u001b[49m\u001b[43mmetadatas\u001b[49m\u001b[43m,\u001b[49m\u001b[43m \u001b[49m\u001b[43m*\u001b[49m\u001b[43m*\u001b[49m\u001b[43mkwargs\u001b[49m\u001b[43m)\u001b[49m\n",
      "\u001b[36mFile \u001b[39m\u001b[32mc:\\Users\\Guilh\\OneDrive\\Área de Trabalho\\Projetos IA\\TutorialChain\\.venv\\Lib\\site-packages\\langchain_community\\vectorstores\\faiss.py:1044\u001b[39m, in \u001b[36mFAISS.from_texts\u001b[39m\u001b[34m(cls, texts, embedding, metadatas, ids, **kwargs)\u001b[39m\n\u001b[32m   1025\u001b[39m \u001b[38;5;250m\u001b[39m\u001b[33;03m\"\"\"Construct FAISS wrapper from raw documents.\u001b[39;00m\n\u001b[32m   1026\u001b[39m \n\u001b[32m   1027\u001b[39m \u001b[33;03mThis is a user friendly interface that:\u001b[39;00m\n\u001b[32m   (...)\u001b[39m\u001b[32m   1041\u001b[39m \u001b[33;03m        faiss = FAISS.from_texts(texts, embeddings)\u001b[39;00m\n\u001b[32m   1042\u001b[39m \u001b[33;03m\"\"\"\u001b[39;00m\n\u001b[32m   1043\u001b[39m embeddings = embedding.embed_documents(texts)\n\u001b[32m-> \u001b[39m\u001b[32m1044\u001b[39m \u001b[38;5;28;01mreturn\u001b[39;00m \u001b[38;5;28;43mcls\u001b[39;49m\u001b[43m.\u001b[49m\u001b[43m__from\u001b[49m\u001b[43m(\u001b[49m\n\u001b[32m   1045\u001b[39m \u001b[43m    \u001b[49m\u001b[43mtexts\u001b[49m\u001b[43m,\u001b[49m\n\u001b[32m   1046\u001b[39m \u001b[43m    \u001b[49m\u001b[43membeddings\u001b[49m\u001b[43m,\u001b[49m\n\u001b[32m   1047\u001b[39m \u001b[43m    \u001b[49m\u001b[43membedding\u001b[49m\u001b[43m,\u001b[49m\n\u001b[32m   1048\u001b[39m \u001b[43m    \u001b[49m\u001b[43mmetadatas\u001b[49m\u001b[43m=\u001b[49m\u001b[43mmetadatas\u001b[49m\u001b[43m,\u001b[49m\n\u001b[32m   1049\u001b[39m \u001b[43m    \u001b[49m\u001b[43mids\u001b[49m\u001b[43m=\u001b[49m\u001b[43mids\u001b[49m\u001b[43m,\u001b[49m\n\u001b[32m   1050\u001b[39m \u001b[43m    \u001b[49m\u001b[43m*\u001b[49m\u001b[43m*\u001b[49m\u001b[43mkwargs\u001b[49m\u001b[43m,\u001b[49m\n\u001b[32m   1051\u001b[39m \u001b[43m\u001b[49m\u001b[43m)\u001b[49m\n",
      "\u001b[36mFile \u001b[39m\u001b[32mc:\\Users\\Guilh\\OneDrive\\Área de Trabalho\\Projetos IA\\TutorialChain\\.venv\\Lib\\site-packages\\langchain_community\\vectorstores\\faiss.py:996\u001b[39m, in \u001b[36mFAISS.__from\u001b[39m\u001b[34m(cls, texts, embeddings, embedding, metadatas, ids, normalize_L2, distance_strategy, **kwargs)\u001b[39m\n\u001b[32m    984\u001b[39m \u001b[38;5;129m@classmethod\u001b[39m\n\u001b[32m    985\u001b[39m \u001b[38;5;28;01mdef\u001b[39;00m\u001b[38;5;250m \u001b[39m\u001b[34m__from\u001b[39m(\n\u001b[32m    986\u001b[39m     \u001b[38;5;28mcls\u001b[39m,\n\u001b[32m   (...)\u001b[39m\u001b[32m    994\u001b[39m     **kwargs: Any,\n\u001b[32m    995\u001b[39m ) -> FAISS:\n\u001b[32m--> \u001b[39m\u001b[32m996\u001b[39m     faiss = \u001b[43mdependable_faiss_import\u001b[49m\u001b[43m(\u001b[49m\u001b[43m)\u001b[49m\n\u001b[32m    997\u001b[39m     \u001b[38;5;28;01mif\u001b[39;00m distance_strategy == DistanceStrategy.MAX_INNER_PRODUCT:\n\u001b[32m    998\u001b[39m         index = faiss.IndexFlatIP(\u001b[38;5;28mlen\u001b[39m(embeddings[\u001b[32m0\u001b[39m]))\n",
      "\u001b[36mFile \u001b[39m\u001b[32mc:\\Users\\Guilh\\OneDrive\\Área de Trabalho\\Projetos IA\\TutorialChain\\.venv\\Lib\\site-packages\\langchain_community\\vectorstores\\faiss.py:58\u001b[39m, in \u001b[36mdependable_faiss_import\u001b[39m\u001b[34m(no_avx2)\u001b[39m\n\u001b[32m     56\u001b[39m         \u001b[38;5;28;01mimport\u001b[39;00m\u001b[38;5;250m \u001b[39m\u001b[34;01mfaiss\u001b[39;00m\n\u001b[32m     57\u001b[39m \u001b[38;5;28;01mexcept\u001b[39;00m \u001b[38;5;167;01mImportError\u001b[39;00m:\n\u001b[32m---> \u001b[39m\u001b[32m58\u001b[39m     \u001b[38;5;28;01mraise\u001b[39;00m \u001b[38;5;167;01mImportError\u001b[39;00m(\n\u001b[32m     59\u001b[39m         \u001b[33m\"\u001b[39m\u001b[33mCould not import faiss python package. \u001b[39m\u001b[33m\"\u001b[39m\n\u001b[32m     60\u001b[39m         \u001b[33m\"\u001b[39m\u001b[33mPlease install it with `pip install faiss-gpu` (for CUDA supported GPU) \u001b[39m\u001b[33m\"\u001b[39m\n\u001b[32m     61\u001b[39m         \u001b[33m\"\u001b[39m\u001b[33mor `pip install faiss-cpu` (depending on Python version).\u001b[39m\u001b[33m\"\u001b[39m\n\u001b[32m     62\u001b[39m     )\n\u001b[32m     63\u001b[39m \u001b[38;5;28;01mreturn\u001b[39;00m faiss\n",
      "\u001b[31mImportError\u001b[39m: Could not import faiss python package. Please install it with `pip install faiss-gpu` (for CUDA supported GPU) or `pip install faiss-cpu` (depending on Python version)."
     ]
    }
   ],
   "source": [
    "# Antes de usar FAISS, é necessário instalar o pacote faiss-cpu (ou faiss-gpu se tiver GPU compatível).\n",
    "# Execute a linha abaixo se ainda não instalou:\n",
    "!pip install faiss-cpu\n",
    "\n",
    "from langchain.vectorstores import FAISS\n",
    "\n",
    "# Cria o banco vetorial com os embeddings dos chunks\n",
    "vector_store = FAISS.from_documents(chunks, embeddings)"
   ]
  },
  {
   "cell_type": "markdown",
   "id": "cbee8d34",
   "metadata": {},
   "source": [
    "## 7. Fazendo uma Busca Semântica\n",
    "\n",
    "Agora podemos buscar por significado, não só por palavras exatas.\n",
    "\n",
    "**Exemplo:** Buscar 'quantos centros de distribuição a Nike tem nos EUA?'"
   ]
  },
  {
   "cell_type": "code",
   "execution_count": null,
   "id": "a4ad065a",
   "metadata": {},
   "outputs": [],
   "source": [
    "query = 'How many distribution centers does Nike have in the US?'\n",
    "results = vector_store.similarity_search(query, k=3)\n",
    "\n",
    "for i, doc in enumerate(results, 1):\n",
    "    print(f'--- Resultado {i} ---')\n",
    "    print(doc.page_content[:300])\n",
    "    print(doc.metadata)\n",
    "    print()"
   ]
  },
  {
   "cell_type": "markdown",
   "id": "52270112",
   "metadata": {},
   "source": [
    "## Conclusão\n",
    "\n",
    "Com Groq e LangChain, você pode criar buscadores inteligentes que entendem o significado das perguntas, tornando a busca em documentos muito mais eficiente e útil.\n",
    "\n",
    "**Problema resolvido:** Encontrar rapidamente informações relevantes em grandes volumes de texto, sem depender de palavras exatas."
   ]
  }
 ],
 "metadata": {
  "kernelspec": {
   "display_name": ".venv",
   "language": "python",
   "name": "python3"
  },
  "language_info": {
   "codemirror_mode": {
    "name": "ipython",
    "version": 3
   },
   "file_extension": ".py",
   "mimetype": "text/x-python",
   "name": "python",
   "nbconvert_exporter": "python",
   "pygments_lexer": "ipython3",
   "version": "3.12.7"
  }
 },
 "nbformat": 4,
 "nbformat_minor": 5
}
